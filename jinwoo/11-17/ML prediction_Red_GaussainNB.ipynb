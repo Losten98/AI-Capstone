{
 "cells": [
  {
   "cell_type": "code",
   "execution_count": 1,
   "id": "899e7154",
   "metadata": {},
   "outputs": [],
   "source": [
    "import os\n",
    "import csv\n",
    "import re\n",
    "import matplotlib\n",
    "import matplotlib.pyplot as plt\n",
    "import matplotlib.font_manager as fm\n",
    "import pandas as pd\n",
    "import numpy as np\n",
    "from sklearn.metrics import classification_report"
   ]
  },
  {
   "cell_type": "code",
   "execution_count": 2,
   "id": "733846a8",
   "metadata": {},
   "outputs": [],
   "source": [
    "a = pd.read_csv('C:/Users/loste/data_1112/red1.csv',  encoding= 'CP949')\n",
    "\n",
    "x=[]\n",
    "y=[]\n",
    "for data in a :\n",
    "    x.append(a[data].tolist())\n",
    "    y.append(0)\n"
   ]
  },
  {
   "cell_type": "code",
   "execution_count": 3,
   "id": "aa82d9a7",
   "metadata": {},
   "outputs": [],
   "source": [
    "b = pd.read_csv('C:/Users/loste/data_1112/red2.csv', encoding= 'CP949')\n",
    "#print(a['one'].tolist())\n",
    "for data in b :\n",
    "    x.append(b[data].tolist())\n",
    "    y.append(1)"
   ]
  },
  {
   "cell_type": "code",
   "execution_count": 4,
   "id": "42296f12",
   "metadata": {},
   "outputs": [],
   "source": [
    "x = np.array(x)\n",
    "y = np.array(y)"
   ]
  },
  {
   "cell_type": "code",
   "execution_count": 5,
   "id": "dca95c34",
   "metadata": {},
   "outputs": [],
   "source": [
    "from sklearn.model_selection import train_test_split\n",
    "x_train, x_test, y_train, y_test = train_test_split(x, \n",
    "\n",
    "                                                    y, \n",
    "\n",
    "                                                    test_size=0.3, \n",
    "\n",
    "                                                    shuffle=True, \n",
    "\n",
    "                                                    random_state=1004)"
   ]
  },
  {
   "cell_type": "code",
   "execution_count": 6,
   "id": "e4587f06",
   "metadata": {
    "scrolled": true
   },
   "outputs": [
    {
     "name": "stdout",
     "output_type": "stream",
     "text": [
      "train score: 0.9285714285714286\n",
      "test score: 0.6666666666666666\n",
      "              precision    recall  f1-score   support\n",
      "\n",
      "           0       0.50      1.00      0.67         2\n",
      "           1       1.00      0.50      0.67         4\n",
      "\n",
      "    accuracy                           0.67         6\n",
      "   macro avg       0.75      0.75      0.67         6\n",
      "weighted avg       0.83      0.67      0.67         6\n",
      "\n"
     ]
    }
   ],
   "source": [
    "from sklearn.naive_bayes import GaussianNB\n",
    "classifier_red = GaussianNB()\n",
    "classifier_red.fit(x_train, y_train)\n",
    "print(\"train score:\", classifier_red.score(x_train, y_train))\n",
    "print(\"test score:\", classifier_red.score(x_test, y_test))\n",
    "y_pred = classifier_red.predict(x_test)\n",
    "print(classification_report(y_test, y_pred))"
   ]
  },
  {
   "cell_type": "code",
   "execution_count": 7,
   "id": "b624ca18",
   "metadata": {},
   "outputs": [
    {
     "name": "stdout",
     "output_type": "stream",
     "text": [
      "- Gaussian NB Prediction for Red data -\n",
      "\n",
      "#0 Result =  Stressed, Predict =  Stressed -> Prediction Success\n",
      "#1 Result =  Stressed, Predict =  Stressed -> Prediction Success\n",
      "#2 Result =  Stressed, Predict =  Stressed -> Prediction Success\n",
      "#3 Result =  Stressed, Predict =  Stressed -> Prediction Success\n",
      "#4 Result =  Stressed, Predict =  Stressed -> Prediction Success\n",
      "#5 Result =  Stressed, Predict =  Stressed -> Prediction Success\n",
      "#6 Result =  Stressed, Predict =  Stressed -> Prediction Success\n",
      "#7 Result =  Stressed, Predict =  Stressed -> Prediction Success\n",
      "#8 Result =  Stressed, Predict =  Stressed -> Prediction Success\n",
      "#9 Result =  Stressed, Predict =  Stressed -> Prediction Success\n",
      "#10 Result =  Relaxed, Predict =  Relaxed -> Prediction Success\n",
      "#11 Result =  Relaxed, Predict =  Relaxed -> Prediction Success\n",
      "#12 Result =  Relaxed, Predict =  Stressed -> Prediction Fail\n",
      "#13 Result =  Relaxed, Predict =  Stressed -> Prediction Fail\n",
      "#14 Result =  Relaxed, Predict =  Stressed -> Prediction Fail\n",
      "#15 Result =  Relaxed, Predict =  Relaxed -> Prediction Success\n",
      "#16 Result =  Relaxed, Predict =  Relaxed -> Prediction Success\n",
      "#17 Result =  Relaxed, Predict =  Relaxed -> Prediction Success\n",
      "#18 Result =  Relaxed, Predict =  Relaxed -> Prediction Success\n",
      "#19 Result =  Relaxed, Predict =  Relaxed -> Prediction Success\n",
      "\n",
      "Prediction Score :  85.0\n"
     ]
    }
   ],
   "source": [
    "# predict y from x in Red data\n",
    "# 0 -> stress / 1 -> relaxed\n",
    "print(\"- Gaussian NB Prediction for Red data -\", end = \"\\n\\n\")\n",
    "length = len(x)\n",
    "score = 0\n",
    "for idx, res in enumerate(x) :\n",
    "    if y[idx] == 0 : result = \"Stressed\"\n",
    "    else : result = \"Relaxed\"\n",
    "    if classifier_red.predict(res.reshape(1,-1))[0] == 0 : predict = \"Stressed\"\n",
    "    else : predict = \"Relaxed\"\n",
    "    print(\"#{}\".format(idx), end = \" \")\n",
    "    print(\"Result = \", result, end = \", \")\n",
    "    print(\"Predict = \", predict, end = \" -> \")\n",
    "    \n",
    "    if result == predict : \n",
    "        print(\"Prediction Success\")\n",
    "        score += 1\n",
    "    else : print(\"Prediction Fail\")\n",
    "\n",
    "print(\"\\nPrediction Score : \", score/length * 100)"
   ]
  },
  {
   "cell_type": "code",
   "execution_count": 8,
   "id": "38486213",
   "metadata": {},
   "outputs": [
    {
     "name": "stdout",
     "output_type": "stream",
     "text": [
      "Stressed\n"
     ]
    }
   ],
   "source": [
    "# predict single element\n",
    "\n",
    "a = x[0] # something to predict\n",
    "\n",
    "if classifier_red.predict(a.reshape(1,-1))[0] == 0 : predict = \"Stressed\"\n",
    "else : predict = \"Relaxed\"\n",
    "    \n",
    "print(predict)"
   ]
  }
 ],
 "metadata": {
  "kernelspec": {
   "display_name": "Python 3 (ipykernel)",
   "language": "python",
   "name": "python3"
  },
  "language_info": {
   "codemirror_mode": {
    "name": "ipython",
    "version": 3
   },
   "file_extension": ".py",
   "mimetype": "text/x-python",
   "name": "python",
   "nbconvert_exporter": "python",
   "pygments_lexer": "ipython3",
   "version": "3.9.7"
  }
 },
 "nbformat": 4,
 "nbformat_minor": 5
}
