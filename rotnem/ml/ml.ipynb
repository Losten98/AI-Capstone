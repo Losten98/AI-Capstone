{
 "cells": [
  {
   "cell_type": "code",
   "execution_count": 1,
   "id": "899e7154",
   "metadata": {},
   "outputs": [],
   "source": [
    "import os\n",
    "import csv\n",
    "import re\n",
    "import matplotlib\n",
    "import matplotlib.pyplot as plt\n",
    "import matplotlib.font_manager as fm\n",
    "import pandas as pd\n",
    "import numpy as np\n",
    "from sklearn.metrics import classification_report\n",
    "import joblib"
   ]
  },
  {
   "cell_type": "code",
   "execution_count": 2,
   "metadata": {},
   "outputs": [],
   "source": [
    "a = pd.read_csv('sensor_data_20221116_234153.csv',  encoding= 'CP949')\n",
    "a.drop(['index'], axis=1, inplace=True)"
   ]
  },
  {
   "cell_type": "code",
   "execution_count": 3,
   "id": "733846a8",
   "metadata": {},
   "outputs": [
    {
     "name": "stdout",
     "output_type": "stream",
     "text": [
      "5000\n"
     ]
    }
   ],
   "source": [
    "ir1a = a['ir1'].tolist()\n",
    "ir2a = a['ir2'].tolist()\n",
    "red1a = a['red1'].tolist()\n",
    "red2a = a['red2'].tolist()\n",
    "\n",
    "ira = ir1a + ir2a\n",
    "reda = red1a + red2a\n",
    "print(len(ira))"
   ]
  },
  {
   "cell_type": "code",
   "execution_count": 5,
   "metadata": {},
   "outputs": [],
   "source": [
    "x=[]\n",
    "y=[]\n",
    "for i in range(len(ira)):\n",
    "    x.append([ira[i], reda[i]])\n",
    "    y.append(0)"
   ]
  },
  {
   "cell_type": "code",
   "execution_count": 7,
   "id": "aa82d9a7",
   "metadata": {},
   "outputs": [
    {
     "name": "stdout",
     "output_type": "stream",
     "text": [
      "<class 'list'>\n"
     ]
    }
   ],
   "source": [
    "b = pd.read_csv('sensor_data_20221116_234724.csv', encoding= 'CP949')\n",
    "b.drop(['index'], axis=1, inplace=True)\n",
    "\n",
    "ir1b = b['ir1'].tolist()\n",
    "ir2b = b['ir2'].tolist()\n",
    "red1b = b['red1'].tolist()\n",
    "red2b = b['red2'].tolist()\n",
    "\n",
    "irb = ir1b + ir2b\n",
    "redb = red1b + red2b\n",
    "print(type(irb))\n",
    "for i in range(len(irb)):\n",
    "    x.append([irb[i], redb[i]])\n",
    "    y.append(1)"
   ]
  },
  {
   "cell_type": "code",
   "execution_count": 8,
   "id": "42296f12",
   "metadata": {},
   "outputs": [],
   "source": [
    "x = np.array(x)\n",
    "y = np.array(y)"
   ]
  },
  {
   "cell_type": "code",
   "execution_count": 9,
   "id": "dca95c34",
   "metadata": {},
   "outputs": [],
   "source": [
    "from sklearn.model_selection import train_test_split\n",
    "x_train, x_test, y_train, y_test = train_test_split(x, \n",
    "\n",
    "                                                    y, \n",
    "\n",
    "                                                    test_size=0.3, \n",
    "\n",
    "                                                    shuffle=True, \n",
    "\n",
    "                                                    random_state=1004)"
   ]
  },
  {
   "cell_type": "code",
   "execution_count": 10,
   "metadata": {},
   "outputs": [
    {
     "name": "stdout",
     "output_type": "stream",
     "text": [
      "10000\n",
      "7000\n",
      "3000\n"
     ]
    }
   ],
   "source": [
    "print(len(x))\n",
    "print(len(x_train))\n",
    "print(len(x_test))"
   ]
  },
  {
   "cell_type": "code",
   "execution_count": 11,
   "id": "89d41c28",
   "metadata": {},
   "outputs": [
    {
     "name": "stdout",
     "output_type": "stream",
     "text": [
      "train score: 0.5321428571428571\n",
      "test score: 0.539\n",
      "              precision    recall  f1-score   support\n",
      "\n",
      "           0       0.55      0.53      0.54      1531\n",
      "           1       0.53      0.55      0.54      1469\n",
      "\n",
      "    accuracy                           0.54      3000\n",
      "   macro avg       0.54      0.54      0.54      3000\n",
      "weighted avg       0.54      0.54      0.54      3000\n",
      "\n"
     ]
    }
   ],
   "source": [
    "from sklearn.linear_model import LogisticRegression\n",
    "log_reg = LogisticRegression()\n",
    "log_reg.fit(x_train,y_train)\n",
    "print(\"train score:\", log_reg.score(x_train, y_train))\n",
    "print(\"test score:\", log_reg.score(x_test, y_test))\n",
    "y_pred = log_reg.predict(x_test)\n",
    "print(classification_report(y_test, y_pred))"
   ]
  },
  {
   "cell_type": "code",
   "execution_count": 12,
   "id": "64afa085",
   "metadata": {},
   "outputs": [
    {
     "name": "stdout",
     "output_type": "stream",
     "text": [
      "train score: 1.0\n",
      "test score: 0.9606666666666667\n",
      "              precision    recall  f1-score   support\n",
      "\n",
      "           0       0.96      0.97      0.96      1531\n",
      "           1       0.96      0.96      0.96      1469\n",
      "\n",
      "    accuracy                           0.96      3000\n",
      "   macro avg       0.96      0.96      0.96      3000\n",
      "weighted avg       0.96      0.96      0.96      3000\n",
      "\n"
     ]
    }
   ],
   "source": [
    "from sklearn.tree import DecisionTreeClassifier\n",
    "\n",
    "decision_tree = DecisionTreeClassifier(random_state=32) #decision_tree변수에 모델 저장\n",
    "decision_tree.fit(x_train, y_train) #fit메서드로 모델 학습\n",
    "\n",
    "print(\"train score:\", decision_tree.score(x_train, y_train))\n",
    "print(\"test score:\", decision_tree.score(x_test, y_test))\n",
    "y_pred = decision_tree.predict(x_test)\n",
    "print(classification_report(y_test, y_pred))"
   ]
  },
  {
   "cell_type": "code",
   "execution_count": 13,
   "id": "e4587f06",
   "metadata": {},
   "outputs": [
    {
     "name": "stdout",
     "output_type": "stream",
     "text": [
      "train score: 0.6792857142857143\n",
      "test score: 0.665\n",
      "              precision    recall  f1-score   support\n",
      "\n",
      "           0       0.73      0.54      0.62      1531\n",
      "           1       0.62      0.79      0.70      1469\n",
      "\n",
      "    accuracy                           0.67      3000\n",
      "   macro avg       0.68      0.67      0.66      3000\n",
      "weighted avg       0.68      0.67      0.66      3000\n",
      "\n"
     ]
    }
   ],
   "source": [
    "from sklearn.naive_bayes import GaussianNB\n",
    "classifier = GaussianNB()\n",
    "classifier.fit(x_train, y_train)\n",
    "print(\"train score:\", classifier.score(x_train, y_train))\n",
    "print(\"test score:\", classifier.score(x_test, y_test))\n",
    "y_pred = classifier.predict(x_test)\n",
    "print(classification_report(y_test, y_pred))"
   ]
  },
  {
   "cell_type": "code",
   "execution_count": 14,
   "id": "29da658b",
   "metadata": {},
   "outputs": [
    {
     "name": "stdout",
     "output_type": "stream",
     "text": [
      "train score: 0.9807142857142858\n",
      "test score: 0.9746666666666667\n",
      "              precision    recall  f1-score   support\n",
      "\n",
      "           0       0.95      1.00      0.98      1531\n",
      "           1       1.00      0.95      0.97      1469\n",
      "\n",
      "    accuracy                           0.97      3000\n",
      "   macro avg       0.98      0.97      0.97      3000\n",
      "weighted avg       0.98      0.97      0.97      3000\n",
      "\n"
     ]
    }
   ],
   "source": [
    "from sklearn.neighbors import KNeighborsClassifier\n",
    "classifier = KNeighborsClassifier(n_neighbors = 2)\n",
    "classifier.fit(x_train, y_train)\n",
    "print(\"train score:\", classifier.score(x_train, y_train))\n",
    "print(\"test score:\", classifier.score(x_test, y_test))\n",
    "y_pred = classifier.predict(x_test)\n",
    "print(classification_report(y_test, y_pred))"
   ]
  },
  {
   "cell_type": "code",
   "execution_count": 18,
   "metadata": {},
   "outputs": [
    {
     "data": {
      "text/plain": [
       "['classifier.joblib']"
      ]
     },
     "execution_count": 18,
     "metadata": {},
     "output_type": "execute_result"
    }
   ],
   "source": [
    "# Save ML model to file\n",
    "\n",
    "joblib.dump(classifier, 'classifier.joblib')"
   ]
  },
  {
   "cell_type": "code",
   "execution_count": 20,
   "metadata": {},
   "outputs": [
    {
     "name": "stdout",
     "output_type": "stream",
     "text": [
      "[[138661 169383]\n",
      " [134919 164529]\n",
      " [140923 165386]\n",
      " ...\n",
      " [145447 175599]\n",
      " [142634 166885]\n",
      " [137083 163522]] 3000\n"
     ]
    }
   ],
   "source": [
    "print(x_test, len(x_test))"
   ]
  },
  {
   "cell_type": "code",
   "execution_count": 15,
   "id": "8598e223",
   "metadata": {},
   "outputs": [
    {
     "name": "stdout",
     "output_type": "stream",
     "text": [
      "train score: 0.7432857142857143\n",
      "test score: 0.7533333333333333\n",
      "              precision    recall  f1-score   support\n",
      "\n",
      "           0       0.74      0.80      0.77      1531\n",
      "           1       0.77      0.71      0.74      1469\n",
      "\n",
      "    accuracy                           0.75      3000\n",
      "   macro avg       0.75      0.75      0.75      3000\n",
      "weighted avg       0.75      0.75      0.75      3000\n",
      "\n"
     ]
    }
   ],
   "source": [
    "from sklearn import svm\n",
    "clf = svm.SVC(kernel='poly')\n",
    "clf.fit(x_train, y_train)\n",
    "print(\"train score:\", clf.score(x_train, y_train))\n",
    "print(\"test score:\", clf.score(x_test, y_test))\n",
    "y_pred = clf.predict(x_test)\n",
    "print(classification_report(y_test, y_pred))"
   ]
  },
  {
   "cell_type": "code",
   "execution_count": 16,
   "id": "ae5c738b",
   "metadata": {},
   "outputs": [
    {
     "name": "stdout",
     "output_type": "stream",
     "text": [
      "train score: 1.0\n",
      "test score: 0.9713333333333334\n",
      "              precision    recall  f1-score   support\n",
      "\n",
      "           0       0.96      0.99      0.97      1531\n",
      "           1       0.99      0.95      0.97      1469\n",
      "\n",
      "    accuracy                           0.97      3000\n",
      "   macro avg       0.97      0.97      0.97      3000\n",
      "weighted avg       0.97      0.97      0.97      3000\n",
      "\n"
     ]
    }
   ],
   "source": [
    "from sklearn.ensemble import RandomForestClassifier\n",
    "\n",
    "rf = RandomForestClassifier(max_depth = 50 ,n_estimators=100, oob_score=True, random_state=123456)\n",
    "rf.fit(x_train, y_train)\n",
    "print(\"train score:\", rf.score(x_train, y_train))\n",
    "print(\"test score:\", rf.score(x_test, y_test))\n",
    "y_pred = rf.predict(x_test)\n",
    "print(classification_report(y_test, y_pred))"
   ]
  },
  {
   "cell_type": "code",
   "execution_count": null,
   "id": "b624ca18",
   "metadata": {},
   "outputs": [],
   "source": []
  },
  {
   "cell_type": "code",
   "execution_count": null,
   "id": "6c97ea1f",
   "metadata": {},
   "outputs": [],
   "source": []
  }
 ],
 "metadata": {
  "kernelspec": {
   "display_name": "Python 3",
   "language": "python",
   "name": "python3"
  },
  "language_info": {
   "codemirror_mode": {
    "name": "ipython",
    "version": 3
   },
   "file_extension": ".py",
   "mimetype": "text/x-python",
   "name": "python",
   "nbconvert_exporter": "python",
   "pygments_lexer": "ipython3",
   "version": "3.8.10"
  }
 },
 "nbformat": 4,
 "nbformat_minor": 5
}
