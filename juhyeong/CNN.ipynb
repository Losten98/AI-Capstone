{
 "cells": [
  {
   "cell_type": "code",
   "execution_count": 1,
   "id": "ed274574",
   "metadata": {},
   "outputs": [],
   "source": [
    "import pandas as pd\n",
    "import numpy as np\n",
    "import matplotlib.pyplot as plt\n",
    "import torch\n",
    "from torch.utils.data import DataLoader, Dataset\n",
    "from torch import nn\n",
    "import torch.nn.functional as F\n",
    "from torch.nn import init\n",
    "from torchvision import transforms\n",
    "import time\n",
    "from tqdm.auto import tqdm\n",
    "import math"
   ]
  },
  {
   "cell_type": "code",
   "execution_count": 2,
   "id": "f171eb62",
   "metadata": {},
   "outputs": [],
   "source": [
    "# Tools\n",
    "def tabulate(x, y, f):\n",
    "    \"\"\"Return a table of f(x, y). Useful for the Gram-like operations.\"\"\"\n",
    "    return np.vectorize(f)(*np.meshgrid(x, y, sparse=True))\n",
    "def cos_sum(a, b):\n",
    "    \"\"\"To work with tabulate.\"\"\"\n",
    "    return(math.cos(a+b))\n",
    "\n",
    "class GAF:\n",
    "\n",
    "    def __init__(self):\n",
    "        pass\n",
    "    def __call__(self, serie):\n",
    "        \"\"\"Compute the Gramian Angular Field of an image\"\"\"\n",
    "        # Min-Max scaling\n",
    "        min_ = np.amin(serie)\n",
    "        max_ = np.amax(serie)\n",
    "        scaled_serie = (2*serie - max_ - min_)/(max_ - min_)\n",
    "\n",
    "        # Floating point inaccuracy!\n",
    "        scaled_serie = np.where(scaled_serie >= 1., 1., scaled_serie)\n",
    "        scaled_serie = np.where(scaled_serie <= -1., -1., scaled_serie)\n",
    "\n",
    "        # Polar encoding\n",
    "        phi = np.arccos(scaled_serie)\n",
    "        # Note! The computation of r is not necessary\n",
    "        r = np.linspace(0, 1, len(scaled_serie))\n",
    "\n",
    "        # GAF Computation (every term of the matrix)\n",
    "        gaf = tabulate(phi, phi, cos_sum)\n",
    "\n",
    "        return(gaf, phi, r, scaled_serie)"
   ]
  },
  {
   "cell_type": "code",
   "execution_count": 3,
   "id": "b37e793b",
   "metadata": {},
   "outputs": [],
   "source": [
    "class img_data(Dataset):\n",
    "    def __init__(self, path, option):\n",
    "            data = pd.read_csv(path,header=None)\n",
    "            \n",
    "            for i in range(0,len(data.columns)):\n",
    "                data.loc[data[i]==-999,i] = data[i].median()\n",
    "            self.items = [(data[i] ,int(path.split(option)[-1].replace(\".csv\",\"\"))-1) for i in data]\n",
    "            self.length = len(data.columns) # item의 개수\n",
    "            self.to_tensor = transforms.ToTensor()\n",
    "            self.gaf = GAF()\n",
    "            \n",
    "    # ----------------------------\n",
    "    # Number of items in dataset\n",
    "    # ----------------------------\n",
    "    def __len__(self):\n",
    "        return self.length\n",
    "    \n",
    "    # ----------------------------\n",
    "    # Get i'th item in dataset\n",
    "    # ----------------------------\n",
    "    def __getitem__(self, idx):\n",
    "        \n",
    "        series_data, class_id = self.items[idx]\n",
    "        \n",
    "        image, _,_,_ = self.gaf(series_data)\n",
    "        image = self.to_tensor(image)\n",
    "        image = image.type(torch.float32)\n",
    "        \n",
    "        return image, class_id"
   ]
  },
  {
   "cell_type": "code",
   "execution_count": 4,
   "id": "d6aa1583",
   "metadata": {},
   "outputs": [],
   "source": [
    "PATH1 = 'data/HR1.csv'\n",
    "train1 = img_data(PATH1,\"HR\")\n",
    "PATH2 = 'data/HR2.csv'\n",
    "train2 = img_data(PATH2,\"HR\")"
   ]
  },
  {
   "cell_type": "code",
   "execution_count": 5,
   "id": "bed265a4",
   "metadata": {},
   "outputs": [],
   "source": [
    "train = train1+train2"
   ]
  },
  {
   "cell_type": "code",
   "execution_count": 6,
   "id": "29683fcc",
   "metadata": {
    "scrolled": true
   },
   "outputs": [
    {
     "data": {
      "text/plain": [
       "(tensor([[[-0.9410, -0.2301, -0.9946,  ..., -0.9183, -0.9183, -0.9992],\n",
       "          [-0.2301,  0.6898, -0.6296,  ..., -0.1695, -0.1695, -0.5111],\n",
       "          [-0.9946, -0.6296, -0.8512,  ..., -0.9991, -0.9991, -0.9179],\n",
       "          ...,\n",
       "          [-0.9183, -0.1695, -0.9991,  ..., -0.8921, -0.8921, -0.9947],\n",
       "          [-0.9183, -0.1695, -0.9991,  ..., -0.8921, -0.8921, -0.9947],\n",
       "          [-0.9992, -0.5111, -0.9179,  ..., -0.9947, -0.9947, -0.9655]]]),\n",
       " 0)"
      ]
     },
     "execution_count": 6,
     "metadata": {},
     "output_type": "execute_result"
    }
   ],
   "source": [
    "train.__getitem__(1)"
   ]
  },
  {
   "cell_type": "code",
   "execution_count": 7,
   "id": "c59a9444",
   "metadata": {},
   "outputs": [
    {
     "data": {
      "text/plain": [
       "torch.Size([1, 100, 100])"
      ]
     },
     "execution_count": 7,
     "metadata": {},
     "output_type": "execute_result"
    }
   ],
   "source": [
    "train.__getitem__(1)[0].shape"
   ]
  },
  {
   "cell_type": "code",
   "execution_count": 8,
   "id": "43ecf227",
   "metadata": {},
   "outputs": [
    {
     "data": {
      "text/plain": [
       "torch.float32"
      ]
     },
     "execution_count": 8,
     "metadata": {},
     "output_type": "execute_result"
    }
   ],
   "source": [
    "train.__getitem__(1)[0].dtype"
   ]
  },
  {
   "cell_type": "code",
   "execution_count": 9,
   "id": "3c8bedb1",
   "metadata": {},
   "outputs": [
    {
     "data": {
      "text/plain": [
       "1"
      ]
     },
     "execution_count": 9,
     "metadata": {},
     "output_type": "execute_result"
    }
   ],
   "source": [
    "train.__getitem__(12)[1]"
   ]
  },
  {
   "cell_type": "code",
   "execution_count": 10,
   "id": "20ca02b9",
   "metadata": {},
   "outputs": [
    {
     "data": {
      "text/plain": [
       "tensor([[-0.8168, -0.8543, -0.9359,  ..., -0.9359, -0.9677, -0.8993],\n",
       "        [-0.8543, -0.8878, -0.9577,  ..., -0.9577, -0.9827, -0.9270],\n",
       "        [-0.9359, -0.9577, -0.9945,  ..., -0.9945, -1.0000, -0.9805],\n",
       "        ...,\n",
       "        [-0.9359, -0.9577, -0.9945,  ..., -0.9945, -1.0000, -0.9805],\n",
       "        [-0.9677, -0.9827, -1.0000,  ..., -1.0000, -0.9945, -0.9957],\n",
       "        [-0.8993, -0.9270, -0.9805,  ..., -0.9805, -0.9957, -0.9581]])"
      ]
     },
     "execution_count": 10,
     "metadata": {},
     "output_type": "execute_result"
    }
   ],
   "source": [
    "train.__getitem__(4)[0][0]"
   ]
  },
  {
   "cell_type": "code",
   "execution_count": 11,
   "id": "2570d488",
   "metadata": {},
   "outputs": [
    {
     "data": {
      "text/plain": [
       "<matplotlib.image.AxesImage at 0x7f404996e7c0>"
      ]
     },
     "execution_count": 11,
     "metadata": {},
     "output_type": "execute_result"
    },
    {
     "data": {
      "image/png": "[encoded data removed]",
      "text/plain": [
       "<Figure size 640x480 with 1 Axes>"
      ]
     },
     "metadata": {},
     "output_type": "display_data"
    }
   ],
   "source": [
    "plt.imshow(train.__getitem__(0)[0][0],cmap='rainbow', origin='lower')"
   ]
  },
  {
   "cell_type": "code",
   "execution_count": 12,
   "id": "5a966be8",
   "metadata": {},
   "outputs": [],
   "source": [
    "# Hyper parameter\n",
    "batch_size = 1\n",
    "num_epochs=1\n",
    "learning_rate = 0.001"
   ]
  },
  {
   "cell_type": "code",
   "execution_count": 13,
   "id": "631e275a",
   "metadata": {},
   "outputs": [],
   "source": [
    "train_loader = torch.utils.data.DataLoader(train, batch_size=batch_size, shuffle=True, num_workers=2, pin_memory=True)\n",
    "# valid_loader = torch.utils.data.DataLoader(valid_esc50, batch_size=batch_size, shuffle=False, num_workers=2, pin_memory=True)\n",
    "test_loader = torch.utils.data.DataLoader(train, batch_size=batch_size, shuffle=False, num_workers=2, pin_memory=True)"
   ]
  },
  {
   "cell_type": "code",
   "execution_count": 14,
   "id": "7e8aa245",
   "metadata": {},
   "outputs": [],
   "source": [
    "# ----------------------------\n",
    "# Classification Model\n",
    "# ----------------------------\n",
    "class Classifier (nn.Module):\n",
    "    # ----------------------------\n",
    "    # Build the model architecture\n",
    "    # ----------------------------\n",
    "    def __init__(self):\n",
    "        super().__init__()\n",
    "        conv_layers = []\n",
    "\n",
    "        # First Convolution Block with Relu and Batch Norm. Use Kaiming Initialization\n",
    "        self.conv1 = nn.Conv2d(1, 8, kernel_size=(5, 5), stride=(2, 2), padding=(2, 2))\n",
    "        self.relu1 = nn.ReLU()\n",
    "        self.bn1 = nn.BatchNorm2d(8)\n",
    "        init.kaiming_normal_(self.conv1.weight, a=0.1)\n",
    "        self.conv1.bias.data.zero_()\n",
    "        conv_layers += [self.conv1, self.relu1, self.bn1]\n",
    "\n",
    "        # Second Convolution Block\n",
    "        self.conv2 = nn.Conv2d(8, 16, kernel_size=(3, 3), stride=(2, 2), padding=(1, 1))\n",
    "        self.relu2 = nn.ReLU()\n",
    "        self.bn2 = nn.BatchNorm2d(16)\n",
    "        init.kaiming_normal_(self.conv2.weight, a=0.1)\n",
    "        self.conv2.bias.data.zero_()\n",
    "        conv_layers += [self.conv2, self.relu2, self.bn2]\n",
    "\n",
    "        # Third Convolution Block\n",
    "        self.conv3 = nn.Conv2d(16, 32, kernel_size=(3, 3), stride=(2, 2), padding=(1, 1))\n",
    "        self.relu3 = nn.ReLU()\n",
    "        self.bn3 = nn.BatchNorm2d(32)\n",
    "        init.kaiming_normal_(self.conv3.weight, a=0.1)\n",
    "        self.conv3.bias.data.zero_()\n",
    "        conv_layers += [self.conv3, self.relu3, self.bn3]\n",
    "\n",
    "        # Fourth Convolution Block\n",
    "        self.conv4 = nn.Conv2d(32, 64, kernel_size=(3, 3), stride=(2, 2), padding=(1, 1))\n",
    "        self.relu4 = nn.ReLU()\n",
    "        self.bn4 = nn.BatchNorm2d(64)\n",
    "        init.kaiming_normal_(self.conv4.weight, a=0.1)\n",
    "        self.conv4.bias.data.zero_()\n",
    "        conv_layers += [self.conv4, self.relu4, self.bn4]\n",
    "\n",
    "        # Linear Classifier\n",
    "        self.ap = nn.AdaptiveAvgPool2d(output_size=1)\n",
    "        self.lin = nn.Linear(in_features=64, out_features=2)\n",
    "\n",
    "        # Wrap the Convolutional Blocks\n",
    "        self.conv = nn.Sequential(*conv_layers)\n",
    "\n",
    "        # Dropout\n",
    "        # self.dropout = nn.Dropout(0.25)\n",
    "\n",
    " \n",
    "    # ----------------------------\n",
    "    # Forward pass computations\n",
    "    # ----------------------------\n",
    "    def forward(self, x):\n",
    "        # Run the convolutional blocks\n",
    "        x = self.conv(x)\n",
    "\n",
    "        # Adaptive pool and flatten for input to linear layer\n",
    "        x = self.ap(x)\n",
    "        x = x.view(x.shape[0], -1)\n",
    "\n",
    "        # Dropout\n",
    "        # x = self.dropout(x) \n",
    "\n",
    "        # Linear layer\n",
    "        x = self.lin(x)\n",
    "\n",
    "        # Final output\n",
    "        return x"
   ]
  },
  {
   "cell_type": "code",
   "execution_count": 15,
   "id": "67cf6755",
   "metadata": {},
   "outputs": [
    {
     "data": {
      "text/plain": [
       "device(type='cpu')"
      ]
     },
     "execution_count": 15,
     "metadata": {},
     "output_type": "execute_result"
    }
   ],
   "source": [
    "# Create the model and put it on the GPU if available\n",
    "myModel = Classifier()\n",
    "device = torch.device(\"cpu\")\n",
    "myModel = myModel.to(device)\n",
    "# Check that it is on Cuda\n",
    "next(myModel.parameters()).device"
   ]
  },
  {
   "cell_type": "code",
   "execution_count": 20,
   "id": "fddc53ac",
   "metadata": {},
   "outputs": [],
   "source": [
    "# ----------------------------\n",
    "# Training Loop\n",
    "# ----------------------------\n",
    "def training(model, train_dl, num_epochs):\n",
    "    losses = []\n",
    "\n",
    "    # Loss Function, Optimizer and Scheduler\n",
    "    criterion = nn.CrossEntropyLoss()\n",
    "    optimizer = torch.optim.Adam(model.parameters(),lr=learning_rate)\n",
    "    scheduler = torch.optim.lr_scheduler.OneCycleLR(optimizer, max_lr=learning_rate,\n",
    "                                                steps_per_epoch=int(len(train_dl)),\n",
    "                                                epochs=num_epochs,\n",
    "                                                anneal_strategy='linear')\n",
    "    print('Starting Training')\n",
    "    # Repeat for each epoch\n",
    "    pbar = tqdm(range(num_epochs))\n",
    "    for epoch in pbar:\n",
    "        running_loss = 0.0\n",
    "        correct_prediction = 0\n",
    "        total_prediction = 0\n",
    "        model.train()\n",
    "\n",
    "        # Repeat for each batch in the training set\n",
    "        for inputs, labels in train_dl:\n",
    "            # Get the input features and target labels, and put them on the GPU\n",
    "            inputs, labels = inputs.to(device), labels.to(device)\n",
    "\n",
    "#             # Normalize the inputs\n",
    "#             inputs_m, inputs_s = inputs.mean(), inputs.std()\n",
    "#             inputs = (inputs - inputs_m) / inputs_s\n",
    "\n",
    "            # Zero the parameter gradients\n",
    "            optimizer.zero_grad()\n",
    "\n",
    "            # forward + backward + optimize\n",
    "            outputs = model(inputs)\n",
    "            loss = criterion(outputs, labels)\n",
    "            loss.backward()\n",
    "            optimizer.step()\n",
    "            scheduler.step()\n",
    "\n",
    "            # Keep stats for Loss and Accuracy\n",
    "            running_loss += loss.item()\n",
    "            losses.append(loss.item())\n",
    "            # Get the predicted class with the highest score\n",
    "            _, prediction = torch.max(outputs,1)\n",
    "            # Count of predictions that matched the target label\n",
    "            correct_prediction += (prediction == labels).sum().item()\n",
    "            total_prediction += prediction.shape[0]\n",
    "\n",
    "            # if i % 10 == 0:    # print every 10 mini-batches\n",
    "            #     print('[%d, %5d] loss: %.3f' % (epoch + 1, i + 1, running_loss / 10))\n",
    "\n",
    "\n",
    "        # Print stats at the end of the epoch\n",
    "        num_batches = len(train_dl.dataset)\n",
    "        avg_loss = running_loss / num_batches\n",
    "        acc = correct_prediction/total_prediction\n",
    "        pbar.set_postfix({'Epoch':epoch, 'Train_loss':avg_loss})\n",
    "        # print(f'Epoch: {epoch}, Loss: {avg_loss:.2f}, Accuracy: {acc:.2f}')\n",
    "\n",
    "#     plt.plot(losses)\n",
    "#     plt.show()\n"
   ]
  },
  {
   "cell_type": "code",
   "execution_count": 21,
   "id": "024f2a1d",
   "metadata": {},
   "outputs": [],
   "source": [
    "# ----------------------------\n",
    "# Inference\n",
    "# ----------------------------\n",
    "def predict (model, test_dl):\n",
    "    correct_prediction = 0\n",
    "    total_prediction = 0\n",
    "    model.eval()\n",
    "\n",
    "    # Disable gradient updates\n",
    "    with torch.no_grad():\n",
    "        for inputs, labels in tqdm(test_dl):\n",
    "            # Get the input features and target labels, and put them on the GPU\n",
    "            inputs, labels = inputs.to(device), labels.to(device)\n",
    "\n",
    "            # Normalize the inputs\n",
    "            inputs_m, inputs_s = inputs.mean(), inputs.std()\n",
    "            inputs = (inputs - inputs_m) / inputs_s\n",
    "\n",
    "            # Get predictions\n",
    "            outputs = model(inputs)\n",
    "            \n",
    "            # Get the predicted class with the highest score\n",
    "            _, prediction = torch.max(outputs,1)\n",
    "            # Count of predictions that matched the target label\n",
    "            correct_prediction += (prediction == labels).sum().item()\n",
    "            total_prediction += prediction.shape[0]\n",
    "            print(f'prediction: {prediction}')\n",
    "            print(f'label: {labels}')\n",
    "    \n",
    "    \n",
    "    acc = correct_prediction/total_prediction\n",
    "    print(f'Accuracy: {acc:.2f}, Total items: {total_prediction}')    \n",
    "    "
   ]
  },
  {
   "cell_type": "code",
   "execution_count": 22,
   "id": "0e34ae2a",
   "metadata": {
    "scrolled": false
   },
   "outputs": [
    {
     "name": "stdout",
     "output_type": "stream",
     "text": [
      "Starting Training\n"
     ]
    },
    {
     "data": {
      "application/vnd.jupyter.widget-view+json": {
       "model_id": "a263640f35304da4ac8552e8d44e53e6",
       "version_major": 2,
       "version_minor": 0
      },
      "text/plain": [
       "  0%|          | 0/1 [00:00<?, ?it/s]"
      ]
     },
     "metadata": {},
     "output_type": "display_data"
    },
    {
     "name": "stdout",
     "output_type": "stream",
     "text": [
      "Training takes 0.00 minutes\n"
     ]
    }
   ],
   "source": [
    "# Train\n",
    "start = time.time() # Train 시작 시간 정보 저장\n",
    "training(myModel, train_loader, num_epochs)\n",
    "end = time.time() # Train 종료 시간 정보 저장\n",
    "\n",
    "duration = end - start # 종료 시간 - 시작 시간\n",
    "print(\"Training takes {:.2f} minutes\".format(duration/60)) #초 단위로 저장되므로, 60으로 나누어 분으로 표시"
   ]
  },
  {
   "cell_type": "code",
   "execution_count": 23,
   "id": "b0bb9d9c",
   "metadata": {},
   "outputs": [
    {
     "data": {
      "application/vnd.jupyter.widget-view+json": {
       "model_id": "db76ee2fc02445cf87065ce1a34527b4",
       "version_major": 2,
       "version_minor": 0
      },
      "text/plain": [
       "  0%|          | 0/20 [00:00<?, ?it/s]"
      ]
     },
     "metadata": {},
     "output_type": "display_data"
    },
    {
     "name": "stdout",
     "output_type": "stream",
     "text": [
      "prediction: tensor([0])\n",
      "label: tensor([0])\n",
      "prediction: tensor([0])\n",
      "label: tensor([0])\n",
      "prediction: tensor([0])\n",
      "label: tensor([0])\n",
      "prediction: tensor([0])\n",
      "label: tensor([0])\n",
      "prediction: tensor([0])\n",
      "label: tensor([0])\n",
      "prediction: tensor([0])\n",
      "label: tensor([0])\n",
      "prediction: tensor([0])\n",
      "label: tensor([0])\n",
      "prediction: tensor([0])\n",
      "label: tensor([0])\n",
      "prediction: tensor([0])\n",
      "label: tensor([0])\n",
      "prediction: tensor([0])\n",
      "label: tensor([0])\n",
      "prediction: tensor([0])\n",
      "label: tensor([1])\n",
      "prediction: tensor([0])\n",
      "label: tensor([1])\n",
      "prediction: tensor([1])\n",
      "label: tensor([1])\n",
      "prediction: tensor([0])\n",
      "label: tensor([1])\n",
      "prediction: tensor([0])\n",
      "label: tensor([1])\n",
      "prediction: tensor([1])\n",
      "label: tensor([1])\n",
      "prediction: tensor([0])\n",
      "label: tensor([1])\n",
      "prediction: tensor([0])\n",
      "label: tensor([1])\n",
      "prediction: tensor([0])\n",
      "label: tensor([1])\n",
      "prediction: tensor([0])\n",
      "label: tensor([1])\n",
      "Accuracy: 0.60, Total items: 20\n"
     ]
    }
   ],
   "source": [
    "predict(myModel, test_loader)"
   ]
  },
  {
   "cell_type": "code",
   "execution_count": null,
   "id": "601ab898",
   "metadata": {},
   "outputs": [],
   "source": []
  }
 ],
 "metadata": {
  "kernelspec": {
   "display_name": "ai_capstone",
   "language": "python",
   "name": ".ai_capstone"
  },
  "language_info": {
   "codemirror_mode": {
    "name": "ipython",
    "version": 3
   },
   "file_extension": ".py",
   "mimetype": "text/x-python",
   "name": "python",
   "nbconvert_exporter": "python",
   "pygments_lexer": "ipython3",
   "version": "3.8.10"
  }
 },
 "nbformat": 4,
 "nbformat_minor": 5
}
